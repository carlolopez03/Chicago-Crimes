{
 "cells": [
  {
   "cell_type": "code",
   "execution_count": 1,
   "id": "0a6e069e-3d19-4554-b7f2-f5af21e8b145",
   "metadata": {},
   "outputs": [],
   "source": [
    "import pandas as pd\n",
    "import numpy as np\n",
    "import matplotlib.pyplot as plt\n",
    "import matplotlib.dates as mdates\n",
    "import matplotlib.ticker as mticks\n",
    "import seaborn as sns\n",
    "import missingno as miss\n",
    "import datetime as dt\n",
    "import statsmodels.tsa.api as tsa\n",
    "import glob\n",
    "import holidays\n",
    "from holidays import country_holidays\n",
    "import pytz\n",
    "\n"
   ]
  },
  {
   "cell_type": "code",
   "execution_count": 2,
   "id": "83caa65a-fbbe-407d-be3b-901d527e61c3",
   "metadata": {
    "scrolled": true
   },
   "outputs": [],
   "source": [
    "crimes_path = ('Data/*.csv')"
   ]
  },
  {
   "cell_type": "code",
   "execution_count": 3,
   "id": "5b9e9092-5122-469f-977d-e077d7b762c6",
   "metadata": {},
   "outputs": [
    {
     "data": {
      "text/plain": [
       "['Data\\\\Chicago-Crime_2001.csv',\n",
       " 'Data\\\\Chicago-Crime_2002.csv',\n",
       " 'Data\\\\Chicago-Crime_2003.csv',\n",
       " 'Data\\\\Chicago-Crime_2004.csv',\n",
       " 'Data\\\\Chicago-Crime_2005.csv',\n",
       " 'Data\\\\Chicago-Crime_2006.csv',\n",
       " 'Data\\\\Chicago-Crime_2007.csv',\n",
       " 'Data\\\\Chicago-Crime_2008.csv',\n",
       " 'Data\\\\Chicago-Crime_2009.csv',\n",
       " 'Data\\\\Chicago-Crime_2010.csv',\n",
       " 'Data\\\\Chicago-Crime_2011.csv',\n",
       " 'Data\\\\Chicago-Crime_2012.csv',\n",
       " 'Data\\\\Chicago-Crime_2013.csv',\n",
       " 'Data\\\\Chicago-Crime_2014.csv',\n",
       " 'Data\\\\Chicago-Crime_2015.csv',\n",
       " 'Data\\\\Chicago-Crime_2016.csv',\n",
       " 'Data\\\\Chicago-Crime_2017.csv',\n",
       " 'Data\\\\Chicago-Crime_2018.csv',\n",
       " 'Data\\\\Chicago-Crime_2019.csv',\n",
       " 'Data\\\\Chicago-Crime_2020.csv',\n",
       " 'Data\\\\Chicago-Crime_2021.csv',\n",
       " 'Data\\\\Chicago-Crime_2022.csv']"
      ]
     },
     "execution_count": 3,
     "metadata": {},
     "output_type": "execute_result"
    }
   ],
   "source": [
    "files = glob.glob(crimes_path)\n",
    "files"
   ]
  },
  {
   "cell_type": "code",
   "execution_count": 4,
   "id": "65d47553-5bf8-4e14-84fe-c538c4898024",
   "metadata": {
    "scrolled": true
   },
   "outputs": [
    {
     "data": {
      "text/html": [
       "<div>\n",
       "<style scoped>\n",
       "    .dataframe tbody tr th:only-of-type {\n",
       "        vertical-align: middle;\n",
       "    }\n",
       "\n",
       "    .dataframe tbody tr th {\n",
       "        vertical-align: top;\n",
       "    }\n",
       "\n",
       "    .dataframe thead th {\n",
       "        text-align: right;\n",
       "    }\n",
       "</style>\n",
       "<table border=\"1\" class=\"dataframe\">\n",
       "  <thead>\n",
       "    <tr style=\"text-align: right;\">\n",
       "      <th></th>\n",
       "      <th>ID</th>\n",
       "      <th>Date</th>\n",
       "      <th>Primary Type</th>\n",
       "      <th>Description</th>\n",
       "      <th>Location Description</th>\n",
       "      <th>Arrest</th>\n",
       "      <th>Domestic</th>\n",
       "      <th>Beat</th>\n",
       "      <th>District</th>\n",
       "      <th>Ward</th>\n",
       "      <th>Latitude</th>\n",
       "      <th>Longitude</th>\n",
       "    </tr>\n",
       "  </thead>\n",
       "  <tbody>\n",
       "    <tr>\n",
       "      <th>0</th>\n",
       "      <td>1326041</td>\n",
       "      <td>01/01/2001 01:00:00 AM</td>\n",
       "      <td>BATTERY</td>\n",
       "      <td>SIMPLE</td>\n",
       "      <td>RESIDENCE</td>\n",
       "      <td>False</td>\n",
       "      <td>False</td>\n",
       "      <td>1624</td>\n",
       "      <td>16.0</td>\n",
       "      <td>NaN</td>\n",
       "      <td>41.957850</td>\n",
       "      <td>-87.749185</td>\n",
       "    </tr>\n",
       "    <tr>\n",
       "      <th>1</th>\n",
       "      <td>1319931</td>\n",
       "      <td>01/01/2001 01:00:00 PM</td>\n",
       "      <td>BATTERY</td>\n",
       "      <td>SIMPLE</td>\n",
       "      <td>RESIDENCE</td>\n",
       "      <td>False</td>\n",
       "      <td>True</td>\n",
       "      <td>825</td>\n",
       "      <td>8.0</td>\n",
       "      <td>NaN</td>\n",
       "      <td>41.783892</td>\n",
       "      <td>-87.684841</td>\n",
       "    </tr>\n",
       "    <tr>\n",
       "      <th>2</th>\n",
       "      <td>1324743</td>\n",
       "      <td>01/01/2001 01:00:00 PM</td>\n",
       "      <td>GAMBLING</td>\n",
       "      <td>ILLEGAL ILL LOTTERY</td>\n",
       "      <td>STREET</td>\n",
       "      <td>True</td>\n",
       "      <td>False</td>\n",
       "      <td>313</td>\n",
       "      <td>3.0</td>\n",
       "      <td>NaN</td>\n",
       "      <td>41.780412</td>\n",
       "      <td>-87.611970</td>\n",
       "    </tr>\n",
       "    <tr>\n",
       "      <th>3</th>\n",
       "      <td>1310717</td>\n",
       "      <td>01/01/2001 01:00:00 AM</td>\n",
       "      <td>CRIMINAL DAMAGE</td>\n",
       "      <td>TO VEHICLE</td>\n",
       "      <td>STREET</td>\n",
       "      <td>False</td>\n",
       "      <td>False</td>\n",
       "      <td>2424</td>\n",
       "      <td>24.0</td>\n",
       "      <td>NaN</td>\n",
       "      <td>42.012391</td>\n",
       "      <td>-87.678032</td>\n",
       "    </tr>\n",
       "    <tr>\n",
       "      <th>4</th>\n",
       "      <td>1318099</td>\n",
       "      <td>01/01/2001 01:00:00 AM</td>\n",
       "      <td>BATTERY</td>\n",
       "      <td>SIMPLE</td>\n",
       "      <td>RESIDENCE PORCH/HALLWAY</td>\n",
       "      <td>False</td>\n",
       "      <td>True</td>\n",
       "      <td>214</td>\n",
       "      <td>2.0</td>\n",
       "      <td>NaN</td>\n",
       "      <td>41.819538</td>\n",
       "      <td>-87.620020</td>\n",
       "    </tr>\n",
       "  </tbody>\n",
       "</table>\n",
       "</div>"
      ],
      "text/plain": [
       "        ID                    Date     Primary Type          Description  \\\n",
       "0  1326041  01/01/2001 01:00:00 AM          BATTERY               SIMPLE   \n",
       "1  1319931  01/01/2001 01:00:00 PM          BATTERY               SIMPLE   \n",
       "2  1324743  01/01/2001 01:00:00 PM         GAMBLING  ILLEGAL ILL LOTTERY   \n",
       "3  1310717  01/01/2001 01:00:00 AM  CRIMINAL DAMAGE           TO VEHICLE   \n",
       "4  1318099  01/01/2001 01:00:00 AM          BATTERY               SIMPLE   \n",
       "\n",
       "      Location Description  Arrest  Domestic  Beat  District  Ward   Latitude  \\\n",
       "0                RESIDENCE   False     False  1624      16.0   NaN  41.957850   \n",
       "1                RESIDENCE   False      True   825       8.0   NaN  41.783892   \n",
       "2                   STREET    True     False   313       3.0   NaN  41.780412   \n",
       "3                   STREET   False     False  2424      24.0   NaN  42.012391   \n",
       "4  RESIDENCE PORCH/HALLWAY   False      True   214       2.0   NaN  41.819538   \n",
       "\n",
       "   Longitude  \n",
       "0 -87.749185  \n",
       "1 -87.684841  \n",
       "2 -87.611970  \n",
       "3 -87.678032  \n",
       "4 -87.620020  "
      ]
     },
     "execution_count": 4,
     "metadata": {},
     "output_type": "execute_result"
    }
   ],
   "source": [
    "crimes = pd.concat(pd.read_csv(file) for file in files)\n",
    "crimes.head()"
   ]
  },
  {
   "cell_type": "code",
   "execution_count": 5,
   "id": "4254be42-2853-499e-967d-e6d7ce91a753",
   "metadata": {},
   "outputs": [
    {
     "name": "stdout",
     "output_type": "stream",
     "text": [
      "<class 'pandas.core.frame.DataFrame'>\n",
      "Int64Index: 7713109 entries, 0 to 238857\n",
      "Data columns (total 12 columns):\n",
      " #   Column                Dtype  \n",
      "---  ------                -----  \n",
      " 0   ID                    int64  \n",
      " 1   Date                  object \n",
      " 2   Primary Type          object \n",
      " 3   Description           object \n",
      " 4   Location Description  object \n",
      " 5   Arrest                bool   \n",
      " 6   Domestic              bool   \n",
      " 7   Beat                  int64  \n",
      " 8   District              float64\n",
      " 9   Ward                  float64\n",
      " 10  Latitude              float64\n",
      " 11  Longitude             float64\n",
      "dtypes: bool(2), float64(4), int64(2), object(4)\n",
      "memory usage: 662.0+ MB\n"
     ]
    }
   ],
   "source": [
    "crimes.info()"
   ]
  },
  {
   "cell_type": "code",
   "execution_count": 6,
   "id": "324d6c69-670d-469e-88cf-e962883467a1",
   "metadata": {},
   "outputs": [],
   "source": [
    "fmt = '%m/%d/%Y %H:%M:%S %p'\n",
    "crimes['Date'] = pd.to_datetime(crimes['Date'], format=fmt)"
   ]
  },
  {
   "cell_type": "code",
   "execution_count": 7,
   "id": "5682e4f9-a9a7-4d65-bda5-9b42cac93803",
   "metadata": {},
   "outputs": [
    {
     "name": "stdout",
     "output_type": "stream",
     "text": [
      "<class 'pandas.core.frame.DataFrame'>\n",
      "Int64Index: 7713109 entries, 0 to 238857\n",
      "Data columns (total 12 columns):\n",
      " #   Column                Dtype         \n",
      "---  ------                -----         \n",
      " 0   ID                    int64         \n",
      " 1   Date                  datetime64[ns]\n",
      " 2   Primary Type          object        \n",
      " 3   Description           object        \n",
      " 4   Location Description  object        \n",
      " 5   Arrest                bool          \n",
      " 6   Domestic              bool          \n",
      " 7   Beat                  int64         \n",
      " 8   District              float64       \n",
      " 9   Ward                  float64       \n",
      " 10  Latitude              float64       \n",
      " 11  Longitude             float64       \n",
      "dtypes: bool(2), datetime64[ns](1), float64(4), int64(2), object(3)\n",
      "memory usage: 662.0+ MB\n"
     ]
    }
   ],
   "source": [
    "crimes.info()"
   ]
  },
  {
   "cell_type": "code",
   "execution_count": 8,
   "id": "ee9bb886-86b9-4bda-8554-2d0c718d89a4",
   "metadata": {},
   "outputs": [
    {
     "data": {
      "text/html": [
       "<div>\n",
       "<style scoped>\n",
       "    .dataframe tbody tr th:only-of-type {\n",
       "        vertical-align: middle;\n",
       "    }\n",
       "\n",
       "    .dataframe tbody tr th {\n",
       "        vertical-align: top;\n",
       "    }\n",
       "\n",
       "    .dataframe thead th {\n",
       "        text-align: right;\n",
       "    }\n",
       "</style>\n",
       "<table border=\"1\" class=\"dataframe\">\n",
       "  <thead>\n",
       "    <tr style=\"text-align: right;\">\n",
       "      <th></th>\n",
       "      <th>ID</th>\n",
       "      <th>Primary Type</th>\n",
       "      <th>Description</th>\n",
       "      <th>Location Description</th>\n",
       "      <th>Arrest</th>\n",
       "      <th>Domestic</th>\n",
       "      <th>Beat</th>\n",
       "      <th>District</th>\n",
       "      <th>Ward</th>\n",
       "      <th>Latitude</th>\n",
       "      <th>Longitude</th>\n",
       "    </tr>\n",
       "    <tr>\n",
       "      <th>Date</th>\n",
       "      <th></th>\n",
       "      <th></th>\n",
       "      <th></th>\n",
       "      <th></th>\n",
       "      <th></th>\n",
       "      <th></th>\n",
       "      <th></th>\n",
       "      <th></th>\n",
       "      <th></th>\n",
       "      <th></th>\n",
       "      <th></th>\n",
       "    </tr>\n",
       "  </thead>\n",
       "  <tbody>\n",
       "    <tr>\n",
       "      <th>2001-01-01 01:00:00</th>\n",
       "      <td>1326041</td>\n",
       "      <td>BATTERY</td>\n",
       "      <td>SIMPLE</td>\n",
       "      <td>RESIDENCE</td>\n",
       "      <td>False</td>\n",
       "      <td>False</td>\n",
       "      <td>1624</td>\n",
       "      <td>16.0</td>\n",
       "      <td>NaN</td>\n",
       "      <td>41.957850</td>\n",
       "      <td>-87.749185</td>\n",
       "    </tr>\n",
       "    <tr>\n",
       "      <th>2001-01-01 01:00:00</th>\n",
       "      <td>1319931</td>\n",
       "      <td>BATTERY</td>\n",
       "      <td>SIMPLE</td>\n",
       "      <td>RESIDENCE</td>\n",
       "      <td>False</td>\n",
       "      <td>True</td>\n",
       "      <td>825</td>\n",
       "      <td>8.0</td>\n",
       "      <td>NaN</td>\n",
       "      <td>41.783892</td>\n",
       "      <td>-87.684841</td>\n",
       "    </tr>\n",
       "    <tr>\n",
       "      <th>2001-01-01 01:00:00</th>\n",
       "      <td>1324743</td>\n",
       "      <td>GAMBLING</td>\n",
       "      <td>ILLEGAL ILL LOTTERY</td>\n",
       "      <td>STREET</td>\n",
       "      <td>True</td>\n",
       "      <td>False</td>\n",
       "      <td>313</td>\n",
       "      <td>3.0</td>\n",
       "      <td>NaN</td>\n",
       "      <td>41.780412</td>\n",
       "      <td>-87.611970</td>\n",
       "    </tr>\n",
       "    <tr>\n",
       "      <th>2001-01-01 01:00:00</th>\n",
       "      <td>1310717</td>\n",
       "      <td>CRIMINAL DAMAGE</td>\n",
       "      <td>TO VEHICLE</td>\n",
       "      <td>STREET</td>\n",
       "      <td>False</td>\n",
       "      <td>False</td>\n",
       "      <td>2424</td>\n",
       "      <td>24.0</td>\n",
       "      <td>NaN</td>\n",
       "      <td>42.012391</td>\n",
       "      <td>-87.678032</td>\n",
       "    </tr>\n",
       "    <tr>\n",
       "      <th>2001-01-01 01:00:00</th>\n",
       "      <td>1318099</td>\n",
       "      <td>BATTERY</td>\n",
       "      <td>SIMPLE</td>\n",
       "      <td>RESIDENCE PORCH/HALLWAY</td>\n",
       "      <td>False</td>\n",
       "      <td>True</td>\n",
       "      <td>214</td>\n",
       "      <td>2.0</td>\n",
       "      <td>NaN</td>\n",
       "      <td>41.819538</td>\n",
       "      <td>-87.620020</td>\n",
       "    </tr>\n",
       "    <tr>\n",
       "      <th>...</th>\n",
       "      <td>...</td>\n",
       "      <td>...</td>\n",
       "      <td>...</td>\n",
       "      <td>...</td>\n",
       "      <td>...</td>\n",
       "      <td>...</td>\n",
       "      <td>...</td>\n",
       "      <td>...</td>\n",
       "      <td>...</td>\n",
       "      <td>...</td>\n",
       "      <td>...</td>\n",
       "    </tr>\n",
       "    <tr>\n",
       "      <th>2022-12-31 12:50:00</th>\n",
       "      <td>12938029</td>\n",
       "      <td>ASSAULT</td>\n",
       "      <td>SIMPLE</td>\n",
       "      <td>APARTMENT</td>\n",
       "      <td>False</td>\n",
       "      <td>False</td>\n",
       "      <td>1014</td>\n",
       "      <td>10.0</td>\n",
       "      <td>24.0</td>\n",
       "      <td>41.855911</td>\n",
       "      <td>-87.719966</td>\n",
       "    </tr>\n",
       "    <tr>\n",
       "      <th>2022-12-31 12:50:00</th>\n",
       "      <td>12937822</td>\n",
       "      <td>ASSAULT</td>\n",
       "      <td>AGGRAVATED - HANDGUN</td>\n",
       "      <td>APARTMENT</td>\n",
       "      <td>False</td>\n",
       "      <td>True</td>\n",
       "      <td>733</td>\n",
       "      <td>7.0</td>\n",
       "      <td>6.0</td>\n",
       "      <td>41.766546</td>\n",
       "      <td>-87.645669</td>\n",
       "    </tr>\n",
       "    <tr>\n",
       "      <th>2022-12-31 12:52:00</th>\n",
       "      <td>12937583</td>\n",
       "      <td>BATTERY</td>\n",
       "      <td>SIMPLE</td>\n",
       "      <td>BARBERSHOP</td>\n",
       "      <td>False</td>\n",
       "      <td>False</td>\n",
       "      <td>1135</td>\n",
       "      <td>11.0</td>\n",
       "      <td>28.0</td>\n",
       "      <td>41.868829</td>\n",
       "      <td>-87.686098</td>\n",
       "    </tr>\n",
       "    <tr>\n",
       "      <th>2022-12-31 12:52:00</th>\n",
       "      <td>12938420</td>\n",
       "      <td>ASSAULT</td>\n",
       "      <td>SIMPLE</td>\n",
       "      <td>COMMERCIAL / BUSINESS OFFICE</td>\n",
       "      <td>False</td>\n",
       "      <td>False</td>\n",
       "      <td>1432</td>\n",
       "      <td>14.0</td>\n",
       "      <td>32.0</td>\n",
       "      <td>41.930693</td>\n",
       "      <td>-87.685657</td>\n",
       "    </tr>\n",
       "    <tr>\n",
       "      <th>2022-12-31 12:59:00</th>\n",
       "      <td>12939906</td>\n",
       "      <td>DECEPTIVE PRACTICE</td>\n",
       "      <td>FINANCIAL IDENTITY THEFT $300 AND UNDER</td>\n",
       "      <td>RESIDENCE</td>\n",
       "      <td>False</td>\n",
       "      <td>False</td>\n",
       "      <td>1511</td>\n",
       "      <td>15.0</td>\n",
       "      <td>29.0</td>\n",
       "      <td>NaN</td>\n",
       "      <td>NaN</td>\n",
       "    </tr>\n",
       "  </tbody>\n",
       "</table>\n",
       "<p>7713109 rows × 11 columns</p>\n",
       "</div>"
      ],
      "text/plain": [
       "                           ID        Primary Type  \\\n",
       "Date                                                \n",
       "2001-01-01 01:00:00   1326041             BATTERY   \n",
       "2001-01-01 01:00:00   1319931             BATTERY   \n",
       "2001-01-01 01:00:00   1324743            GAMBLING   \n",
       "2001-01-01 01:00:00   1310717     CRIMINAL DAMAGE   \n",
       "2001-01-01 01:00:00   1318099             BATTERY   \n",
       "...                       ...                 ...   \n",
       "2022-12-31 12:50:00  12938029             ASSAULT   \n",
       "2022-12-31 12:50:00  12937822             ASSAULT   \n",
       "2022-12-31 12:52:00  12937583             BATTERY   \n",
       "2022-12-31 12:52:00  12938420             ASSAULT   \n",
       "2022-12-31 12:59:00  12939906  DECEPTIVE PRACTICE   \n",
       "\n",
       "                                                 Description  \\\n",
       "Date                                                           \n",
       "2001-01-01 01:00:00                                   SIMPLE   \n",
       "2001-01-01 01:00:00                                   SIMPLE   \n",
       "2001-01-01 01:00:00                      ILLEGAL ILL LOTTERY   \n",
       "2001-01-01 01:00:00                               TO VEHICLE   \n",
       "2001-01-01 01:00:00                                   SIMPLE   \n",
       "...                                                      ...   \n",
       "2022-12-31 12:50:00                                   SIMPLE   \n",
       "2022-12-31 12:50:00                     AGGRAVATED - HANDGUN   \n",
       "2022-12-31 12:52:00                                   SIMPLE   \n",
       "2022-12-31 12:52:00                                   SIMPLE   \n",
       "2022-12-31 12:59:00  FINANCIAL IDENTITY THEFT $300 AND UNDER   \n",
       "\n",
       "                             Location Description  Arrest  Domestic  Beat  \\\n",
       "Date                                                                        \n",
       "2001-01-01 01:00:00                     RESIDENCE   False     False  1624   \n",
       "2001-01-01 01:00:00                     RESIDENCE   False      True   825   \n",
       "2001-01-01 01:00:00                        STREET    True     False   313   \n",
       "2001-01-01 01:00:00                        STREET   False     False  2424   \n",
       "2001-01-01 01:00:00       RESIDENCE PORCH/HALLWAY   False      True   214   \n",
       "...                                           ...     ...       ...   ...   \n",
       "2022-12-31 12:50:00                     APARTMENT   False     False  1014   \n",
       "2022-12-31 12:50:00                     APARTMENT   False      True   733   \n",
       "2022-12-31 12:52:00                    BARBERSHOP   False     False  1135   \n",
       "2022-12-31 12:52:00  COMMERCIAL / BUSINESS OFFICE   False     False  1432   \n",
       "2022-12-31 12:59:00                     RESIDENCE   False     False  1511   \n",
       "\n",
       "                     District  Ward   Latitude  Longitude  \n",
       "Date                                                       \n",
       "2001-01-01 01:00:00      16.0   NaN  41.957850 -87.749185  \n",
       "2001-01-01 01:00:00       8.0   NaN  41.783892 -87.684841  \n",
       "2001-01-01 01:00:00       3.0   NaN  41.780412 -87.611970  \n",
       "2001-01-01 01:00:00      24.0   NaN  42.012391 -87.678032  \n",
       "2001-01-01 01:00:00       2.0   NaN  41.819538 -87.620020  \n",
       "...                       ...   ...        ...        ...  \n",
       "2022-12-31 12:50:00      10.0  24.0  41.855911 -87.719966  \n",
       "2022-12-31 12:50:00       7.0   6.0  41.766546 -87.645669  \n",
       "2022-12-31 12:52:00      11.0  28.0  41.868829 -87.686098  \n",
       "2022-12-31 12:52:00      14.0  32.0  41.930693 -87.685657  \n",
       "2022-12-31 12:59:00      15.0  29.0        NaN        NaN  \n",
       "\n",
       "[7713109 rows x 11 columns]"
      ]
     },
     "execution_count": 8,
     "metadata": {},
     "output_type": "execute_result"
    }
   ],
   "source": [
    "crimes_ts = crimes.set_index('Date')\n",
    "crimes_ts"
   ]
  },
  {
   "cell_type": "code",
   "execution_count": 9,
   "id": "f201aec8-5854-48f0-a3bf-1ef54178ef14",
   "metadata": {},
   "outputs": [
    {
     "data": {
      "text/plain": [
       "DatetimeIndex(['2001-01-01 01:00:00', '2001-01-01 01:00:00',\n",
       "               '2001-01-01 01:00:00', '2001-01-01 01:00:00',\n",
       "               '2001-01-01 01:00:00', '2001-01-01 01:00:00',\n",
       "               '2001-01-01 01:00:00', '2001-01-01 01:00:00',\n",
       "               '2001-01-01 01:00:00', '2001-01-01 01:00:00',\n",
       "               ...\n",
       "               '2022-12-31 12:41:00', '2022-12-31 12:42:00',\n",
       "               '2022-12-31 12:44:00', '2022-12-31 12:45:00',\n",
       "               '2022-12-31 12:45:00', '2022-12-31 12:50:00',\n",
       "               '2022-12-31 12:50:00', '2022-12-31 12:52:00',\n",
       "               '2022-12-31 12:52:00', '2022-12-31 12:59:00'],\n",
       "              dtype='datetime64[ns]', name='Date', length=7713109, freq=None)"
      ]
     },
     "execution_count": 9,
     "metadata": {},
     "output_type": "execute_result"
    }
   ],
   "source": [
    "crimes_ts.index"
   ]
  },
  {
   "cell_type": "code",
   "execution_count": 10,
   "id": "b16ecd02-90fc-4b06-adb9-53d865ae8771",
   "metadata": {},
   "outputs": [
    {
     "data": {
      "text/plain": [
       "Date\n",
       "2001-01-01    485886\n",
       "2002-01-01    486807\n",
       "2003-01-01    475985\n",
       "2004-01-01    469422\n",
       "2005-01-01    453773\n",
       "2006-01-01    448179\n",
       "2007-01-01    437087\n",
       "2008-01-01    427183\n",
       "2009-01-01    392827\n",
       "2010-01-01    370513\n",
       "2011-01-01    351993\n",
       "2012-01-01    336319\n",
       "2013-01-01    307536\n",
       "2014-01-01    275789\n",
       "2015-01-01    264787\n",
       "2016-01-01    269823\n",
       "2017-01-01    269100\n",
       "2018-01-01    268899\n",
       "2019-01-01    261325\n",
       "2020-01-01    212194\n",
       "2021-01-01    208824\n",
       "2022-01-01    238858\n",
       "Freq: AS-JAN, dtype: int64"
      ]
     },
     "execution_count": 10,
     "metadata": {},
     "output_type": "execute_result"
    }
   ],
   "source": [
    "ts =  crimes_ts.resample('AS').size()\n",
    "ts"
   ]
  },
  {
   "cell_type": "code",
   "execution_count": 11,
   "id": "bbe2d7c2-3fd0-424e-8dc2-c23fd4d3dfda",
   "metadata": {},
   "outputs": [
    {
     "data": {
      "image/png": "[encoded data removed]",
      "text/plain": [
       "<Figure size 1200x400 with 1 Axes>"
      ]
     },
     "metadata": {},
     "output_type": "display_data"
    }
   ],
   "source": [
    "plt.rcParams['figure.figsize'] = [12,4]\n",
    "ts.plot();"
   ]
  },
  {
   "cell_type": "markdown",
   "id": "3db6d93b-95aa-4da4-beca-6bc4729dd839",
   "metadata": {},
   "source": [
    "## *Comparing Police Districts*\r\n",
    "- Which district had the most crimes in 2022?\n",
    "- Which had the least?"
   ]
  },
  {
   "cell_type": "code",
   "execution_count": 12,
   "id": "a6f74a0b-e28b-4b27-8e6d-cf0d355d7078",
   "metadata": {},
   "outputs": [
    {
     "data": {
      "text/plain": [
       "8.0     14805\n",
       "6.0     14694\n",
       "12.0    14341\n",
       "4.0     13931\n",
       "11.0    13457\n",
       "1.0     13044\n",
       "18.0    12429\n",
       "19.0    12243\n",
       "25.0    11951\n",
       "3.0     11937\n",
       "2.0     11793\n",
       "9.0     10376\n",
       "7.0     10319\n",
       "10.0     9961\n",
       "5.0      9773\n",
       "16.0     9226\n",
       "24.0     8469\n",
       "15.0     8308\n",
       "14.0     8158\n",
       "22.0     7671\n",
       "17.0     6997\n",
       "20.0     4960\n",
       "31.0       15\n",
       "Name: District, dtype: int64"
      ]
     },
     "execution_count": 12,
     "metadata": {},
     "output_type": "execute_result"
    }
   ],
   "source": [
    "crimes_ts.loc['2022', 'District'].value_counts()"
   ]
  },
  {
   "cell_type": "markdown",
   "id": "39cfde53-4aeb-497d-9291-c0be9ba0357b",
   "metadata": {},
   "source": [
    "- District 8 had the most crime in the year 2022.\n",
    "- District 31 had the least amount of activity."
   ]
  },
  {
   "cell_type": "markdown",
   "id": "aeec4d18-dca5-4a49-ae29-37308730a9a6",
   "metadata": {},
   "source": [
    "## *Comparing Holidays*\n",
    "- What are the top 3 holidays with the largest number of crime?\n",
    "- For each of the top 3 holidays with the most crime, what are the top 5 most common crimes?"
   ]
  },
  {
   "cell_type": "code",
   "execution_count": 13,
   "id": "bd97ecc8-7851-4574-b064-ffe6e1cb2e5d",
   "metadata": {},
   "outputs": [
    {
     "data": {
      "text/plain": [
       "DatetimeIndex(['2001-01-01 01:00:00', '2001-01-02 01:00:00',\n",
       "               '2001-01-03 01:00:00', '2001-01-04 01:00:00',\n",
       "               '2001-01-05 01:00:00', '2001-01-06 01:00:00',\n",
       "               '2001-01-07 01:00:00', '2001-01-08 01:00:00',\n",
       "               '2001-01-09 01:00:00', '2001-01-10 01:00:00',\n",
       "               ...\n",
       "               '2022-12-22 01:00:00', '2022-12-23 01:00:00',\n",
       "               '2022-12-24 01:00:00', '2022-12-25 01:00:00',\n",
       "               '2022-12-26 01:00:00', '2022-12-27 01:00:00',\n",
       "               '2022-12-28 01:00:00', '2022-12-29 01:00:00',\n",
       "               '2022-12-30 01:00:00', '2022-12-31 01:00:00'],\n",
       "              dtype='datetime64[ns]', length=8035, freq='D')"
      ]
     },
     "execution_count": 13,
     "metadata": {},
     "output_type": "execute_result"
    }
   ],
   "source": [
    "all_days = pd.date_range(crimes[\"Date\"].min(), crimes[\"Date\"].max())\n",
    "all_days"
   ]
  },
  {
   "cell_type": "code",
   "execution_count": 14,
   "id": "f2eb1988-3f60-42d4-a031-a9918bdbb451",
   "metadata": {},
   "outputs": [
    {
     "data": {
      "text/plain": [
       "holidays.country_holidays('US')"
      ]
     },
     "execution_count": 14,
     "metadata": {},
     "output_type": "execute_result"
    }
   ],
   "source": [
    "us_holidays = country_holidays('US')\n",
    "us_holidays"
   ]
  },
  {
   "cell_type": "code",
   "execution_count": 15,
   "id": "b8c8cf06-9b11-4fac-833a-33225bddf2e2",
   "metadata": {},
   "outputs": [
    {
     "name": "stdout",
     "output_type": "stream",
     "text": [
      "2001-01-01 01:00:00\n"
     ]
    },
    {
     "data": {
      "text/plain": [
       "\"New Year's Day\""
      ]
     },
     "execution_count": 15,
     "metadata": {},
     "output_type": "execute_result"
    }
   ],
   "source": [
    "print(all_days[0])\n",
    "us_holidays.get(all_days[0])"
   ]
  },
  {
   "cell_type": "code",
   "execution_count": 16,
   "id": "036cd808-6782-4eef-9a37-1fc8c6611394",
   "metadata": {},
   "outputs": [
    {
     "data": {
      "text/plain": [
       "[\"New Year's Day\", None, None, None, None]"
      ]
     },
     "execution_count": 16,
     "metadata": {},
     "output_type": "execute_result"
    }
   ],
   "source": [
    "## Getting us holidays for all dates\n",
    "holiday_list = [us_holidays.get(day) for day in all_days]\n",
    "holiday_list[:5]"
   ]
  },
  {
   "cell_type": "code",
   "execution_count": 17,
   "id": "4c88333d-0566-497d-bbaa-a5874d76f4d0",
   "metadata": {},
   "outputs": [
    {
     "data": {
      "text/html": [
       "<div>\n",
       "<style scoped>\n",
       "    .dataframe tbody tr th:only-of-type {\n",
       "        vertical-align: middle;\n",
       "    }\n",
       "\n",
       "    .dataframe tbody tr th {\n",
       "        vertical-align: top;\n",
       "    }\n",
       "\n",
       "    .dataframe thead th {\n",
       "        text-align: right;\n",
       "    }\n",
       "</style>\n",
       "<table border=\"1\" class=\"dataframe\">\n",
       "  <thead>\n",
       "    <tr style=\"text-align: right;\">\n",
       "      <th></th>\n",
       "      <th>ID</th>\n",
       "      <th>Date</th>\n",
       "      <th>Primary Type</th>\n",
       "      <th>Description</th>\n",
       "      <th>Location Description</th>\n",
       "      <th>Arrest</th>\n",
       "      <th>Domestic</th>\n",
       "      <th>Beat</th>\n",
       "      <th>District</th>\n",
       "      <th>Ward</th>\n",
       "      <th>Latitude</th>\n",
       "      <th>Longitude</th>\n",
       "      <th>US Holiday</th>\n",
       "    </tr>\n",
       "  </thead>\n",
       "  <tbody>\n",
       "    <tr>\n",
       "      <th>0</th>\n",
       "      <td>1326041</td>\n",
       "      <td>2001-01-01 01:00:00</td>\n",
       "      <td>BATTERY</td>\n",
       "      <td>SIMPLE</td>\n",
       "      <td>RESIDENCE</td>\n",
       "      <td>False</td>\n",
       "      <td>False</td>\n",
       "      <td>1624</td>\n",
       "      <td>16.0</td>\n",
       "      <td>NaN</td>\n",
       "      <td>41.957850</td>\n",
       "      <td>-87.749185</td>\n",
       "      <td>New Year's Day</td>\n",
       "    </tr>\n",
       "    <tr>\n",
       "      <th>1</th>\n",
       "      <td>1319931</td>\n",
       "      <td>2001-01-01 01:00:00</td>\n",
       "      <td>BATTERY</td>\n",
       "      <td>SIMPLE</td>\n",
       "      <td>RESIDENCE</td>\n",
       "      <td>False</td>\n",
       "      <td>True</td>\n",
       "      <td>825</td>\n",
       "      <td>8.0</td>\n",
       "      <td>NaN</td>\n",
       "      <td>41.783892</td>\n",
       "      <td>-87.684841</td>\n",
       "      <td>New Year's Day</td>\n",
       "    </tr>\n",
       "    <tr>\n",
       "      <th>2</th>\n",
       "      <td>1324743</td>\n",
       "      <td>2001-01-01 01:00:00</td>\n",
       "      <td>GAMBLING</td>\n",
       "      <td>ILLEGAL ILL LOTTERY</td>\n",
       "      <td>STREET</td>\n",
       "      <td>True</td>\n",
       "      <td>False</td>\n",
       "      <td>313</td>\n",
       "      <td>3.0</td>\n",
       "      <td>NaN</td>\n",
       "      <td>41.780412</td>\n",
       "      <td>-87.611970</td>\n",
       "      <td>New Year's Day</td>\n",
       "    </tr>\n",
       "    <tr>\n",
       "      <th>3</th>\n",
       "      <td>1310717</td>\n",
       "      <td>2001-01-01 01:00:00</td>\n",
       "      <td>CRIMINAL DAMAGE</td>\n",
       "      <td>TO VEHICLE</td>\n",
       "      <td>STREET</td>\n",
       "      <td>False</td>\n",
       "      <td>False</td>\n",
       "      <td>2424</td>\n",
       "      <td>24.0</td>\n",
       "      <td>NaN</td>\n",
       "      <td>42.012391</td>\n",
       "      <td>-87.678032</td>\n",
       "      <td>New Year's Day</td>\n",
       "    </tr>\n",
       "    <tr>\n",
       "      <th>4</th>\n",
       "      <td>1318099</td>\n",
       "      <td>2001-01-01 01:00:00</td>\n",
       "      <td>BATTERY</td>\n",
       "      <td>SIMPLE</td>\n",
       "      <td>RESIDENCE PORCH/HALLWAY</td>\n",
       "      <td>False</td>\n",
       "      <td>True</td>\n",
       "      <td>214</td>\n",
       "      <td>2.0</td>\n",
       "      <td>NaN</td>\n",
       "      <td>41.819538</td>\n",
       "      <td>-87.620020</td>\n",
       "      <td>New Year's Day</td>\n",
       "    </tr>\n",
       "  </tbody>\n",
       "</table>\n",
       "</div>"
      ],
      "text/plain": [
       "        ID                Date     Primary Type          Description  \\\n",
       "0  1326041 2001-01-01 01:00:00          BATTERY               SIMPLE   \n",
       "1  1319931 2001-01-01 01:00:00          BATTERY               SIMPLE   \n",
       "2  1324743 2001-01-01 01:00:00         GAMBLING  ILLEGAL ILL LOTTERY   \n",
       "3  1310717 2001-01-01 01:00:00  CRIMINAL DAMAGE           TO VEHICLE   \n",
       "4  1318099 2001-01-01 01:00:00          BATTERY               SIMPLE   \n",
       "\n",
       "      Location Description  Arrest  Domestic  Beat  District  Ward   Latitude  \\\n",
       "0                RESIDENCE   False     False  1624      16.0   NaN  41.957850   \n",
       "1                RESIDENCE   False      True   825       8.0   NaN  41.783892   \n",
       "2                   STREET    True     False   313       3.0   NaN  41.780412   \n",
       "3                   STREET   False     False  2424      24.0   NaN  42.012391   \n",
       "4  RESIDENCE PORCH/HALLWAY   False      True   214       2.0   NaN  41.819538   \n",
       "\n",
       "   Longitude      US Holiday  \n",
       "0 -87.749185  New Year's Day  \n",
       "1 -87.684841  New Year's Day  \n",
       "2 -87.611970  New Year's Day  \n",
       "3 -87.678032  New Year's Day  \n",
       "4 -87.620020  New Year's Day  "
      ]
     },
     "execution_count": 17,
     "metadata": {},
     "output_type": "execute_result"
    }
   ],
   "source": [
    "crimes[\"US Holiday\"] = [us_holidays.get(day) for day in crimes['Date']]\n",
    "crimes.head()"
   ]
  },
  {
   "cell_type": "code",
   "execution_count": 18,
   "id": "1fd32317-00e0-4b43-9126-c7742416cee9",
   "metadata": {},
   "outputs": [
    {
     "data": {
      "image/png": "[encoded data removed]",
      "text/plain": [
       "<Figure size 1200x400 with 1 Axes>"
      ]
     },
     "metadata": {},
     "output_type": "display_data"
    }
   ],
   "source": [
    "sns.countplot(data=crimes, y='US Holiday');"
   ]
  },
  {
   "cell_type": "code",
   "execution_count": 19,
   "id": "e755aa6f-dc49-47c9-ad66-09511e0b0fcf",
   "metadata": {},
   "outputs": [
    {
     "data": {
      "text/plain": [
       "New Year's Day                                     32725\n",
       "Independence Day                                   22672\n",
       "Labor Day                                          22164\n",
       "Memorial Day                                       21125\n",
       "Columbus Day                                       20920\n",
       "Veterans Day                                       20418\n",
       "Martin Luther King Jr. Day                         17916\n",
       "Washington's Birthday                              17597\n",
       "Thanksgiving                                       14798\n",
       "Christmas Day                                      12418\n",
       "Independence Day (Observed)                         5884\n",
       "Veterans Day (Observed)                             5842\n",
       "Christmas Day (Observed)                            4929\n",
       "New Year's Day (Observed)                           4877\n",
       "Juneteenth National Independence Day                1450\n",
       "Juneteenth National Independence Day (Observed)     1403\n",
       "Name: US Holiday, dtype: int64"
      ]
     },
     "execution_count": 19,
     "metadata": {},
     "output_type": "execute_result"
    }
   ],
   "source": [
    "crimes['US Holiday'].value_counts()"
   ]
  },
  {
   "cell_type": "code",
   "execution_count": 20,
   "id": "5ea3334f-fa9d-465b-b881-09f2820005ed",
   "metadata": {},
   "outputs": [
    {
     "data": {
      "text/plain": [
       "US Holiday             Description                  \n",
       "Christmas Day          DOMESTIC BATTERY SIMPLE          2102\n",
       "                       SIMPLE                           1426\n",
       "                       TO PROPERTY                       871\n",
       "                       TO VEHICLE                        806\n",
       "                       $500 AND UNDER                    800\n",
       "                                                        ... \n",
       "Washington's Birthday  TO AIRPORT                          1\n",
       "                       UNLAWFUL INTERFERE/VISITATION       1\n",
       "                       UNLAWFUL USE - HANDGUN              1\n",
       "                       UNLAWFUL USE - OTHER FIREARM        1\n",
       "                       VIO BAIL BOND: DOM VIOLENCE         1\n",
       "Name: Description, Length: 3862, dtype: int64"
      ]
     },
     "execution_count": 20,
     "metadata": {},
     "output_type": "execute_result"
    }
   ],
   "source": [
    "crimes_by_hol = crimes.groupby(\"US Holiday\")['Description'].value_counts(normalize=False)\n",
    "crimes_by_hol"
   ]
  },
  {
   "cell_type": "code",
   "execution_count": 21,
   "id": "d2e52ccf-3548-4e6e-842c-153849c89800",
   "metadata": {},
   "outputs": [
    {
     "data": {
      "text/plain": [
       "Description\n",
       "SIMPLE                           2912\n",
       "DOMESTIC BATTERY SIMPLE          2879\n",
       "FINANCIAL ID THEFT: OVER $300    2211\n",
       "TO PROPERTY                      1730\n",
       "$500 AND UNDER                   1462\n",
       "Name: Description, dtype: int64"
      ]
     },
     "execution_count": 21,
     "metadata": {},
     "output_type": "execute_result"
    }
   ],
   "source": [
    "nyd_crimes = crimes_by_hol.loc[\"New Year's Day\"].head(5)\n",
    "nyd_crimes"
   ]
  },
  {
   "cell_type": "code",
   "execution_count": 22,
   "id": "45896992-c0e3-4ab2-bcac-04fdd73d095f",
   "metadata": {},
   "outputs": [
    {
     "data": {
      "image/png": "[encoded data removed]",
      "text/plain": [
       "<Figure size 1200x600 with 1 Axes>"
      ]
     },
     "metadata": {},
     "output_type": "display_data"
    }
   ],
   "source": [
    "ax = nyd_crimes.sort_values().plot(kind='barh',figsize=(12,6))\n",
    "ax.set(title=\"Most Common Crimes for New Year's Day\",xlabel='# of Crimes');\n",
    "\n"
   ]
  },
  {
   "cell_type": "code",
   "execution_count": 23,
   "id": "46e33486-3a36-4bc8-a623-acdfe0a8fd25",
   "metadata": {},
   "outputs": [
    {
     "data": {
      "text/plain": [
       "Description\n",
       "SIMPLE                     3032\n",
       "DOMESTIC BATTERY SIMPLE    2667\n",
       "$500 AND UNDER             1786\n",
       "TO VEHICLE                 1611\n",
       "TO PROPERTY                1580\n",
       "Name: Description, dtype: int64"
      ]
     },
     "execution_count": 23,
     "metadata": {},
     "output_type": "execute_result"
    }
   ],
   "source": [
    "ind_crimes = crimes_by_hol.loc[\"Independence Day\"].head(5)\n",
    "ind_crimes"
   ]
  },
  {
   "cell_type": "code",
   "execution_count": 29,
   "id": "6f03a615-f761-4bd9-a97d-74e7a3494dbb",
   "metadata": {},
   "outputs": [
    {
     "data": {
      "image/png": "[encoded data removed]",
      "text/plain": [
       "<Figure size 1200x600 with 1 Axes>"
      ]
     },
     "metadata": {},
     "output_type": "display_data"
    }
   ],
   "source": [
    "ax = ind_crimes.sort_values().plot(kind='barh',figsize=(12,6))\n",
    "ax.set(title='Most Common Crimes for Indepenence Day',xlabel='# of Crimes');"
   ]
  },
  {
   "cell_type": "code",
   "execution_count": 25,
   "id": "02492343-1b02-408f-b285-b783f9586b0d",
   "metadata": {},
   "outputs": [
    {
     "data": {
      "text/plain": [
       "Description\n",
       "SIMPLE                     2676\n",
       "DOMESTIC BATTERY SIMPLE    2209\n",
       "$500 AND UNDER             1807\n",
       "TO VEHICLE                 1246\n",
       "OVER $500                  1187\n",
       "Name: Description, dtype: int64"
      ]
     },
     "execution_count": 25,
     "metadata": {},
     "output_type": "execute_result"
    }
   ],
   "source": [
    "ld_crimes = crimes_by_hol.loc[\"Labor Day\"].head(5)\n",
    "ld_crimes"
   ]
  },
  {
   "cell_type": "code",
   "execution_count": 31,
   "id": "aa9ecd1a-85ef-4389-855e-2479eeed7d00",
   "metadata": {},
   "outputs": [
    {
     "data": {
      "image/png": "[encoded data removed]",
      "text/plain": [
       "<Figure size 1200x600 with 1 Axes>"
      ]
     },
     "metadata": {},
     "output_type": "display_data"
    }
   ],
   "source": [
    "ax = ld_crimes.sort_values().plot(kind='barh',figsize=(12,6))\n",
    "ax.set(title='Most Common Crimes for Labor Day',xlabel='# of Crimes');\n",
    "\n"
   ]
  },
  {
   "cell_type": "code",
   "execution_count": null,
   "id": "141d9703-7712-48a5-a224-e2186bcfa6c0",
   "metadata": {},
   "outputs": [],
   "source": []
  }
 ],
 "metadata": {
  "kernelspec": {
   "display_name": "Python 3 (ipykernel)",
   "language": "python",
   "name": "python3"
  },
  "language_info": {
   "codemirror_mode": {
    "name": "ipython",
    "version": 3
   },
   "file_extension": ".py",
   "mimetype": "text/x-python",
   "name": "python",
   "nbconvert_exporter": "python",
   "pygments_lexer": "ipython3",
   "version": "3.10.10"
  }
 },
 "nbformat": 4,
 "nbformat_minor": 5
}
